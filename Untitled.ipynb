{
 "cells": [
  {
   "cell_type": "code",
   "execution_count": 2,
   "id": "binding-encyclopedia",
   "metadata": {},
   "outputs": [],
   "source": [
    "import numpy as np\n",
    "import os\n",
    "import argparse\n",
    "import random\n",
    "import math\n",
    "import json\n"
   ]
  },
  {
   "cell_type": "code",
   "execution_count": 3,
   "id": "urban-thesaurus",
   "metadata": {},
   "outputs": [],
   "source": [
    "def get_args():\n",
    "    parser = argparse.ArgumentParser()\n",
    "    parser.add_argument(\"--hidden-dim\", default = 20, type = int)\n",
    "    parser.add_argument(\"--range\", default = .5, type = float)\n",
    "    parser.add_argument(\"--corruption-level\", default = 0, type = float)\n",
    "    parser.add_argument(\"--num-rounds\", default = 10000, type = int)\n",
    "    parser.add_argument(\"--num-trials\", default = 10, type = int)\n",
    "    parser.add_argument(\"--seed\", type=int, default = 201912)\n",
    "    parser.add_argument(\"--norm-a\", default = 1., type = float)\n",
    "    parser.add_argument(\"--norm-b\", default = 1., type = float)\n",
    "    parser.add_argument(\"--num-actions\", default = 20, type = int)\n",
    "    args = parser.parse_args()\n",
    "    return args\n"
   ]
  },
  {
   "cell_type": "code",
   "execution_count": 4,
   "id": "cardiac-smith",
   "metadata": {},
   "outputs": [],
   "source": [
    "def init_vector(dim, norm):\n",
    "    vec = 2 * np.random.rand(dim) - 1.\n",
    "    return vec * norm / math.sqrt(dim)\n"
   ]
  },
  {
   "cell_type": "code",
   "execution_count": 7,
   "id": "medical-method",
   "metadata": {},
   "outputs": [],
   "source": [
    "def init_arms(dim, norm, num):\n",
    "    decision = np.random.rand(num, dim)\n",
    "    for i in range(num):\n",
    "        decision[i] = init_vector(dim, norm)\n",
    "    return decision\n"
   ]
  },
  {
   "cell_type": "code",
   "execution_count": 8,
   "id": "reserved-stations",
   "metadata": {},
   "outputs": [
    {
     "data": {
      "text/plain": [
       "array([[ 0.34865019,  0.08882284, -0.43278856,  0.03669308,  0.31185618],\n",
       "       [-0.20169209,  0.40254078,  0.40814963,  0.22239029,  0.38164557],\n",
       "       [ 0.12769762, -0.34916257,  0.18084332, -0.13802429, -0.40898375],\n",
       "       [-0.10991621,  0.00114266,  0.25235729,  0.1198777 , -0.04094177],\n",
       "       [-0.3135574 ,  0.2137363 , -0.2515639 , -0.28093781,  0.04737708],\n",
       "       [-0.01392667, -0.29915934,  0.32841342,  0.25588905,  0.35718841],\n",
       "       [ 0.202401  ,  0.05308133, -0.15483821, -0.35657288,  0.43925287],\n",
       "       [-0.31617474,  0.38806368,  0.01011876, -0.15204284, -0.44497627],\n",
       "       [-0.34728594, -0.42108472,  0.36618493,  0.35845026,  0.18007845],\n",
       "       [ 0.42978701,  0.06486175,  0.00064286,  0.13792425,  0.02337442]])"
      ]
     },
     "execution_count": 8,
     "metadata": {},
     "output_type": "execute_result"
    }
   ],
   "source": [
    "dim = 20\n",
    "Range = 0.5\n",
    "corruption = 0\n",
    "T= 10000\n",
    "repeat = 20\n",
    "\n",
    "\n",
    "thetastar = np.append(0.01*np.ones(dim-1), 1)\n",
    "delta = 0.05"
   ]
  },
  {
   "cell_type": "code",
   "execution_count": null,
   "id": "boolean-irrigation",
   "metadata": {},
   "outputs": [],
   "source": []
  }
 ],
 "metadata": {
  "kernelspec": {
   "display_name": "Python 3",
   "language": "python",
   "name": "python3"
  },
  "language_info": {
   "codemirror_mode": {
    "name": "ipython",
    "version": 3
   },
   "file_extension": ".py",
   "mimetype": "text/x-python",
   "name": "python",
   "nbconvert_exporter": "python",
   "pygments_lexer": "ipython3",
   "version": "3.7.6"
  }
 },
 "nbformat": 4,
 "nbformat_minor": 5
}
