{
 "cells": [
  {
   "cell_type": "code",
   "execution_count": 1,
   "id": "eight-tradition",
   "metadata": {},
   "outputs": [],
   "source": [
    "import numpy as np\n",
    "import os\n",
    "import argparse\n",
    "import random\n",
    "import math\n",
    "import json\n",
    "import numpy as np\n",
    "import scipy\n",
    "import matplotlib.pylab as plt\n",
    "#import torch\n",
    "import math\n",
    "import copy\n",
    "import random\n",
    "import os\n",
    "#import cvxpy as cp\n",
    "from random import randrange"
   ]
  },
  {
   "cell_type": "code",
   "execution_count": 2,
   "id": "daily-massachusetts",
   "metadata": {},
   "outputs": [],
   "source": [
    "def get_args():\n",
    "    parser = argparse.ArgumentParser()\n",
    "    parser.add_argument(\"--hidden-dim\", default = 20, type = int)\n",
    "    parser.add_argument(\"--range\", default = .5, type = float)\n",
    "    parser.add_argument(\"--corruption-level\", default = 0, type = float)\n",
    "    parser.add_argument(\"--num-rounds\", default = 10000, type = int)\n",
    "    parser.add_argument(\"--num-trials\", default = 10, type = int)\n",
    "    parser.add_argument(\"--seed\", type=int, default = 201912)\n",
    "    parser.add_argument(\"--norm-a\", default = 1., type = float)\n",
    "    parser.add_argument(\"--norm-b\", default = 1., type = float)\n",
    "    parser.add_argument(\"--num-actions\", default = 20, type = int)\n",
    "    args = parser.parse_args()\n",
    "    return args\n"
   ]
  },
  {
   "cell_type": "code",
   "execution_count": 3,
   "id": "adapted-granny",
   "metadata": {},
   "outputs": [],
   "source": [
    "def init_vector(dim, norm):\n",
    "    vec = 2 * np.random.rand(dim) - 1.\n",
    "    return vec * norm / math.sqrt(dim)\n"
   ]
  },
  {
   "cell_type": "code",
   "execution_count": 4,
   "id": "alert-postage",
   "metadata": {},
   "outputs": [],
   "source": [
    "def init_arms(dim, norm, num):\n",
    "    decision = np.random.rand(num, dim)\n",
    "    for i in range(num):\n",
    "        decision[i] = init_vector(dim, norm)\n",
    "    return decision\n"
   ]
  },
  {
   "cell_type": "code",
   "execution_count": 5,
   "id": "curious-anaheim",
   "metadata": {},
   "outputs": [],
   "source": [
    "dim = 5\n",
    "sigma= 0.1\n",
    "corruption = 0\n",
    "T= 10000\n",
    "repeat = 1000\n",
    "actions = 20\n",
    "norm = 1\n",
    "bmu = np.ones(dim)/ math.sqrt(dim)"
   ]
  },
  {
   "cell_type": "code",
   "execution_count": null,
   "id": "lesbian-leather",
   "metadata": {},
   "outputs": [
    {
     "name": "stdout",
     "output_type": "stream",
     "text": [
      "0 0\n",
      "0 1\n",
      "0 2\n",
      "0 3\n",
      "0 4\n"
     ]
    }
   ],
   "source": [
    "for jjjj in range(repeat):\n",
    "    ############tabular###################\n",
    "    corruption =int(jjjj /100)*50 \n",
    "    number =  jjjj-100*int(jjjj /100)\n",
    "    print(corruption, number)\n",
    "    cur_crr = 0\n",
    "    decision_t = init_arms(dim, norm, actions)\n",
    "    ############Corruption OFUL###################\n",
    "    LAMBDA = 1\n",
    "    beta=1.5\n",
    "    alpha=0.2\n",
    "    SIGMA = LAMBDA*np.diag(np.ones(dim))\n",
    "    BB = np.zeros(dim)\n",
    "    REGRET = 0\n",
    "    TOTALREGRET = []\n",
    "    for t in range(T):\n",
    "        weight = 1\n",
    "        noise=np.random.randn(actions) * sigma\n",
    "        flag = 0\n",
    "        if cur_crr < corruption:\n",
    "            decision = init_arms(dim, norm, actions)\n",
    "            if cur_crr < corruption:\n",
    "                flag = 1\n",
    "        else:\n",
    "            decision = decision_t\n",
    "        decision = init_arms(dim, norm, actions)\n",
    "        rewardS = np.random.randn(actions)\n",
    "        reward = np.random.randn(actions)\n",
    "        optimal_reward = float(\"-inf\")\n",
    "        for arm in range(actions):\n",
    "            rewardS[arm] = noise[arm] + np.dot(decision[arm], bmu)\n",
    "            reward[arm] = rewardS[arm]\n",
    "            if np.dot(decision[arm], bmu) > optimal_reward:\n",
    "                optimal_reward = np.dot(decision[arm], bmu)\n",
    "        if flag == 1:\n",
    "            cur_crr += 1\n",
    "            for arm in range(actions):\n",
    "                reward[arm] = noise[arm] - np.dot(decision[arm], bmu)\n",
    "        hattheta = np.linalg.lstsq(SIGMA[:,:], BB[:], rcond=-1)\n",
    "        hattheta = hattheta[0]\n",
    "        hattheta.shape = (dim)\n",
    "        MAX_R = float(\"-inf\")\n",
    "        for a_t in range(actions):\n",
    "            action_t = decision[a_t]\n",
    "            UU=np.linalg.lstsq(SIGMA[:,:], action_t, rcond=-1)\n",
    "            UU= UU[0]\n",
    "            UU.shape = (dim)\n",
    "            r_action_t = np.dot(action_t, hattheta) + beta * np.sqrt(np.dot(UU,action_t))\n",
    "            if MAX_R < r_action_t: \n",
    "                MAX_R = r_action_t\n",
    "                final_a_t = a_t\n",
    "                action = action_t\n",
    "                weight = min(1,alpha/np.sqrt(np.dot(UU,action_t)))\n",
    "        REGRET += optimal_reward - np.dot(action, bmu)\n",
    "        SIGMA[:,:]  = SIGMA[:,:] + weight*np.mat(action).T * np.mat(action)\n",
    "        BB[:] = BB[:] + weight*reward[final_a_t] * action\n",
    "        TOTALREGRET.append(REGRET)\n",
    "    path  = \"AdditiveC_lowerbound_\" + str(number) +\"_\"+ str(corruption)+\".txt\"\n",
    "    fr = open(path,'w')\n",
    "    for i in TOTALREGRET:\n",
    "        fr.write(str(i))\n",
    "        fr.write(\"\\n\")\n",
    "    fr.close() \n",
    "    "
   ]
  },
  {
   "cell_type": "code",
   "execution_count": null,
   "id": "blind-toner",
   "metadata": {},
   "outputs": [],
   "source": [
    "for jjjj in range(repeat):\n",
    "    ############tabular###################\n",
    "    #print(jjjj)\n",
    "    corruption =int(jjjj /100)*50 \n",
    "    number =  jjjj-100*int(jjjj /100)\n",
    "    print(corruption, number)\n",
    "    cur_crr = 0\n",
    "    decision_t = init_arms(dim, norm, actions)\n",
    "    ############Corruption OFUL###################\n",
    "    LAMBDA = 1\n",
    "    beta=1\n",
    "    alpha=1\n",
    "    SIGMA = LAMBDA*np.diag(np.ones(dim))\n",
    "    BB = np.zeros(dim)\n",
    "    REGRET = 0\n",
    "    TOTALREGRET = []\n",
    "    for t in range(T):\n",
    "        noise=np.random.randn(actions) * sigma\n",
    "        flag = 0\n",
    "        if cur_crr < corruption:\n",
    "            decision = init_arms(dim, norm, actions)\n",
    "            if cur_crr < corruption:\n",
    "                flag = 1\n",
    "        else:\n",
    "            decision = decision_t\n",
    "        decision = init_arms(dim, norm, actions)\n",
    "        rewardS = np.random.randn(actions)\n",
    "        reward = np.random.randn(actions)\n",
    "        optimal_reward = float(\"-inf\")\n",
    "        for arm in range(actions):\n",
    "            rewardS[arm] = noise[arm] + np.dot(decision[arm], bmu)\n",
    "            reward[arm] = rewardS[arm]\n",
    "            if np.dot(decision[arm], bmu) > optimal_reward:\n",
    "                optimal_reward = np.dot(decision[arm], bmu)\n",
    "        if flag == 1:\n",
    "            cur_crr += 1\n",
    "            for arm in range(actions):\n",
    "                reward[arm] = noise[arm] - np.dot(decision[arm], bmu)\n",
    "        hattheta = np.linalg.lstsq(SIGMA[:,:], BB[:], rcond=-1)\n",
    "        hattheta = hattheta[0]\n",
    "        hattheta.shape = (dim)\n",
    "        MAX_R = float(\"-inf\")\n",
    "        for a_t in range(actions):\n",
    "            action_t = decision[a_t]\n",
    "            UU=np.linalg.lstsq(SIGMA[:,:], action_t, rcond=-1)\n",
    "            UU= UU[0]\n",
    "            UU.shape = (dim)\n",
    "            r_action_t = np.dot(action_t, hattheta) + beta * np.sqrt(np.dot(UU,action_t))\n",
    "            if MAX_R < r_action_t: \n",
    "                MAX_R = r_action_t\n",
    "                final_a_t = a_t\n",
    "                action = action_t\n",
    "        REGRET += optimal_reward - np.dot(action, bmu)\n",
    "        SIGMA[:,:]  = SIGMA[:,:] + np.mat(action).T * np.mat(action)\n",
    "        BB[:] = BB[:] + reward[final_a_t] * action\n",
    "        TOTALREGRET.append(REGRET)\n",
    "    path  = \"OFUL_lowerbound_\" + str(number) +\"_\"+ str(corruption)+\".txt\"\n",
    "    fr = open(path,'w')\n",
    "    for i in TOTALREGRET:\n",
    "        fr.write(str(i))\n",
    "        fr.write(\"\\n\")\n",
    "    fr.close() \n",
    "    "
   ]
  },
  {
   "cell_type": "code",
   "execution_count": null,
   "id": "equal-shame",
   "metadata": {},
   "outputs": [],
   "source": [
    "for jjjj in range(repeat):\n",
    "    ############tabular###################\n",
    "    #print(jjjj)\n",
    "    corruption =int(jjjj /100)*50 \n",
    "    number =  jjjj-100*int(jjjj /100)\n",
    "    print(corruption, number)\n",
    "    cur_crr = 0\n",
    "    decision_t = init_arms(dim, norm, actions)\n",
    "    ############Corruption OFUL###################\n",
    "    LAMBDA = 1\n",
    "    beta=10\n",
    "    alpha=1\n",
    "    SIGMA = LAMBDA*np.diag(np.ones(dim))\n",
    "    BB = np.zeros(dim)\n",
    "    REGRET = 0\n",
    "    TOTALREGRET = []\n",
    "    for t in range(T):\n",
    "        noise=np.random.randn(actions) * sigma\n",
    "        flag = 0\n",
    "        if cur_crr < corruption:\n",
    "            decision = init_arms(dim, norm, actions)\n",
    "            if cur_crr < corruption:\n",
    "                flag = 1\n",
    "        else:\n",
    "            decision = decision_t\n",
    "        decision = init_arms(dim, norm, actions)\n",
    "        rewardS = np.random.randn(actions)\n",
    "        reward = np.random.randn(actions)\n",
    "        optimal_reward = float(\"-inf\")\n",
    "        for arm in range(actions):\n",
    "            rewardS[arm] = noise[arm] + np.dot(decision[arm], bmu)\n",
    "            reward[arm] = rewardS[arm]\n",
    "            if np.dot(decision[arm], bmu) > optimal_reward:\n",
    "                optimal_reward = np.dot(decision[arm], bmu)\n",
    "        if flag == 1:\n",
    "            cur_crr += 1\n",
    "            for arm in range(actions):\n",
    "                reward[arm] = noise[arm] - np.dot(decision[arm], bmu)\n",
    "        hattheta = np.linalg.lstsq(SIGMA[:,:], BB[:], rcond=-1)\n",
    "        hattheta = hattheta[0]\n",
    "        hattheta.shape = (dim)\n",
    "        MAX_R = float(\"-inf\")\n",
    "        for a_t in range(actions):\n",
    "            action_t = decision[a_t]\n",
    "            r_action_t = np.dot(action_t, hattheta)\n",
    "            if MAX_R < r_action_t: \n",
    "                MAX_R = r_action_t\n",
    "                final_a_t = a_t\n",
    "                action = action_t\n",
    "        REGRET += optimal_reward - np.dot(action, bmu)\n",
    "        SIGMA[:,:]  = SIGMA[:,:] + np.mat(action).T * np.mat(action)\n",
    "        BB[:] = BB[:] + reward[final_a_t] * action\n",
    "        TOTALREGRET.append(REGRET)\n",
    "    path  = \"Greedy_lowerbound_\" + str(number) +\"_\"+ str(corruption)+\".txt\"\n",
    "    fr = open(path,'w')\n",
    "    for i in TOTALREGRET:\n",
    "        fr.write(str(i))\n",
    "        fr.write(\"\\n\")\n",
    "    fr.close() \n",
    "    "
   ]
  },
  {
   "cell_type": "code",
   "execution_count": 20,
   "id": "noticed-attack",
   "metadata": {},
   "outputs": [
    {
     "data": {
      "image/png": "[encoded data removed]",
      "text/plain": [
       "<Figure size 432x288 with 1 Axes>"
      ]
     },
     "metadata": {
      "needs_background": "light"
     },
     "output_type": "display_data"
    },
    {
     "data": {
      "text/plain": [
       "<Figure size 432x288 with 0 Axes>"
      ]
     },
     "metadata": {},
     "output_type": "display_data"
    }
   ],
   "source": [
    "number = 450\n",
    "repeat = 100\n",
    "corrupt=0\n",
    "rewardrobust = np.zeros(T+1)\n",
    "rewardgreedy = np.zeros(T+1)\n",
    "rewardOFUL = np.zeros(T+1)\n",
    "finalrewardrobust = np.zeros(11)\n",
    "finalrewardgreedy = np.zeros(11)\n",
    "finalrewardOFUL = np.zeros(11)\n",
    "for jjjj in range(repeat):\n",
    "    line1=0\n",
    "    path  = \"AdditiveC_lowerbound_\" + str(jjjj) +\"_\"+ str(number)+\".txt\"\n",
    "    fr = open(path,'r')\n",
    "    for line in fr:\n",
    "        rewardrobust[line1]=rewardrobust[line1]+float(line)\n",
    "        line1+=1\n",
    "    fr.close() \n",
    "for i in range(T):\n",
    "    rewardrobust[i] = rewardrobust[i]/repeat\n",
    "\n",
    "\n",
    "\n",
    "for jjjj in range(repeat):\n",
    "    line1=0\n",
    "    path  = \"Greedy_lowerbound_\" + str(jjjj) +\"_\"+ str(number)+\".txt\"\n",
    "    fr = open(path,'r')\n",
    "    for line in fr:\n",
    "        rewardgreedy[line1]=rewardgreedy[line1]+float(line)\n",
    "        line1+=1\n",
    "    fr.close() \n",
    "for i in range(T):\n",
    "    rewardgreedy[i] = rewardgreedy[i]/repeat\n",
    "\n",
    "\n",
    "for jjjj in range(repeat):\n",
    "    line1=0\n",
    "    path  = \"OFUL_lowerbound_\" + str(jjjj) +\"_\"+ str(number)+\".txt\"\n",
    "    fr = open(path,'r')\n",
    "    for line in fr:\n",
    "        rewardOFUL[line1]=rewardOFUL[line1]+float(line)\n",
    "        line1+=1\n",
    "    fr.close() \n",
    "for i in range(T):\n",
    "    rewardOFUL[i] = rewardOFUL[i]/repeat\n",
    "\n",
    "x=list(range(1,T))\n",
    "plt.plot(x, rewardOFUL[0:T-1],color='black', label='OFUL')\n",
    "    \n",
    "x=list(range(1, T))\n",
    "plt.plot(x, rewardgreedy[0:T-1],color='blue', label='Greedy')\n",
    "\n",
    "x=list(range(1, T))\n",
    "plt.plot(x, rewardrobust[0:T-1],color='red', label='CW-OFUL')\n",
    "plt.legend(fontsize=12)\n",
    "plt.xlabel('Number of Steps',size=15)\n",
    "# naming the y axis\n",
    "plt.ylabel('Regret',size=15)\n",
    "# giving a title to my graph\n",
    "plt.savefig(os.path.join('0_pdf' + \"test.pdf\"), dpi=100)\n",
    "# function to show the plot\n",
    "plt.show()\n",
    "fig=plt.gcf()\n",
    "fig.savefig('./666.jpg')"
   ]
  },
  {
   "cell_type": "code",
   "execution_count": 16,
   "id": "civic-snowboard",
   "metadata": {},
   "outputs": [
    {
     "data": {
      "image/png": "[encoded data removed]",
      "text/plain": [
       "<Figure size 432x288 with 1 Axes>"
      ]
     },
     "metadata": {
      "needs_background": "light"
     },
     "output_type": "display_data"
    },
    {
     "data": {
      "text/plain": [
       "<Figure size 432x288 with 0 Axes>"
      ]
     },
     "metadata": {},
     "output_type": "display_data"
    }
   ],
   "source": [
    "number = 450\n",
    "repeat = 100\n",
    "\n",
    "rewardrobust = np.zeros(T+1)\n",
    "rewardgreedy = np.zeros(T+1)\n",
    "rewardOFUL = np.zeros(T+1)\n",
    "finalrewardrobust = np.zeros(11)\n",
    "finalrewardgreedy = np.zeros(11)\n",
    "finalrewardOFUL = np.zeros(11)\n",
    "for j in range(10):\n",
    "    for jjjj in range(repeat):\n",
    "        line1=0\n",
    "        path  = \"AdditiveC_lowerbound_\" + str(jjjj) +\"_\"+ str(j*50)+\".txt\"\n",
    "        fr = open(path,'r')\n",
    "        for line in fr:\n",
    "            rewardrobust[line1]=rewardrobust[line1]+float(line)\n",
    "            line1+=1\n",
    "        fr.close() \n",
    "    for i in range(T):\n",
    "        rewardrobust[i] = rewardrobust[i]/repeat\n",
    "    finalrewardrobust[j]= rewardrobust[T-1]\n",
    "\n",
    "\n",
    "for j in range(10):\n",
    "    for jjjj in range(repeat):\n",
    "        line1=0\n",
    "        path  = \"Greedy_lowerbound_\" + str(jjjj) +\"_\"+ str(j*50)+\".txt\"\n",
    "        fr = open(path,'r')\n",
    "        for line in fr:\n",
    "            rewardgreedy[line1]=rewardgreedy[line1]+float(line)\n",
    "            line1+=1\n",
    "        fr.close() \n",
    "    for i in range(T):\n",
    "        rewardgreedy[i] = rewardgreedy[i]/repeat\n",
    "    finalrewardgreedy[j]= rewardgreedy[T-1]\n",
    "\n",
    "\n",
    "    \n",
    "for j in range(10):\n",
    "    for jjjj in range(repeat):\n",
    "        line1=0\n",
    "        path  = \"OFUL_lowerbound_\" + str(jjjj) +\"_\"+ str(j*50)+\".txt\"\n",
    "        fr = open(path,'r')\n",
    "        for line in fr:\n",
    "            rewardOFUL[line1]=rewardOFUL[line1]+float(line)\n",
    "            line1+=1\n",
    "        fr.close() \n",
    "    for i in range(T):\n",
    "        rewardOFUL[i] = rewardOFUL[i]/repeat\n",
    "    finalrewardOFUL[j]= rewardOFUL[T-1]\n",
    "x=list(range(0, 500,50))\n",
    "plt.plot(x, finalrewardOFUL[0:10],color='black', label='OFUL')\n",
    "    \n",
    "x=list(range(0, 500,50))\n",
    "plt.plot(x, finalrewardgreedy[0:10],color='blue', label='Greedy')\n",
    "\n",
    "x=list(range(0, 500,50))\n",
    "plt.plot(x, finalrewardrobust[0:10],color='red', label='CW-OFUL')\n",
    "    \n",
    "\n",
    "plt.legend(fontsize=12)\n",
    "plt.xlabel('Corruption Level',size=15)\n",
    "# naming the y axis\n",
    "plt.ylabel('Regret (10000 rounds) ',size=15)\n",
    "# giving a title to my graph\n",
    "plt.savefig(os.path.join('01_pdf' + \"test.pdf\"), dpi=100)\n",
    "# function to show the plot\n",
    "plt.show()\n",
    "fig=plt.gcf()\n",
    "fig.savefig('./6666.jpg')"
   ]
  },
  {
   "cell_type": "code",
   "execution_count": 17,
   "id": "czech-alarm",
   "metadata": {},
   "outputs": [
    {
     "data": {
      "text/plain": [
       "array([   9.56056602,  140.04636102,  278.23389665,  423.014634  ,\n",
       "        562.04644155,  707.19210631,  849.83338383,  990.82499042,\n",
       "       1136.83826334, 1276.51471036])"
      ]
     },
     "execution_count": 17,
     "metadata": {},
     "output_type": "execute_result"
    }
   ],
   "source": [
    "finalrewardOFUL[0:10]"
   ]
  },
  {
   "cell_type": "code",
   "execution_count": 18,
   "id": "stone-contrast",
   "metadata": {},
   "outputs": [
    {
     "data": {
      "text/plain": [
       "array([   3.7143302 ,  155.64191759,  307.35751724,  465.48905781,\n",
       "        625.52401196,  782.64234344,  938.18745006, 1099.84370306,\n",
       "       1264.09676574, 1413.7818221 ])"
      ]
     },
     "execution_count": 18,
     "metadata": {},
     "output_type": "execute_result"
    }
   ],
   "source": [
    "finalrewardgreedy[0:10]"
   ]
  },
  {
   "cell_type": "code",
   "execution_count": 19,
   "id": "genuine-lotus",
   "metadata": {},
   "outputs": [
    {
     "data": {
      "text/plain": [
       "array([  21.85905004,  103.57861378,  199.84137596,  313.22431188,\n",
       "        438.95089419,  571.24516627,  711.06744017,  834.8027862 ,\n",
       "        980.98760185, 1110.86812841])"
      ]
     },
     "execution_count": 19,
     "metadata": {},
     "output_type": "execute_result"
    }
   ],
   "source": [
    "finalrewardrobust[0:10]"
   ]
  },
  {
   "cell_type": "code",
   "execution_count": null,
   "id": "chubby-tuesday",
   "metadata": {},
   "outputs": [],
   "source": []
  }
 ],
 "metadata": {
  "kernelspec": {
   "display_name": "Python 3",
   "language": "python",
   "name": "python3"
  },
  "language_info": {
   "codemirror_mode": {
    "name": "ipython",
    "version": 3
   },
   "file_extension": ".py",
   "mimetype": "text/x-python",
   "name": "python",
   "nbconvert_exporter": "python",
   "pygments_lexer": "ipython3",
   "version": "3.7.6"
  }
 },
 "nbformat": 4,
 "nbformat_minor": 5
}
